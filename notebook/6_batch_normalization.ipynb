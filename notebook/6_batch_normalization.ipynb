{
 "cells": [
  {
   "cell_type": "markdown",
   "metadata": {},
   "source": [
    "# Multi-Layer Perceptron\n",
    "Sung-ju Kim\n",
    "https://goddoe.github.io\n",
    "\n",
    "- - -\n"
   ]
  },
  {
   "cell_type": "markdown",
   "metadata": {},
   "source": [
    "## Content\n",
    "1. Prepare pseudo data\n",
    "2. Make model & Design cost function & optimizer\n",
    "3. Train & Draw graph\n",
    "\n",
    "- - -\n"
   ]
  },
  {
   "cell_type": "code",
   "execution_count": 1,
   "metadata": {},
   "outputs": [],
   "source": [
    "import tensorflow as tf\n",
    "import numpy as np\n",
    "import matplotlib.pyplot as plt\n",
    "import matplotlib.colors as colors\n",
    "import matplotlib.cm as cmx\n",
    "%matplotlib inline\n",
    "plt.style.use('ggplot')"
   ]
  },
  {
   "cell_type": "code",
   "execution_count": 2,
   "metadata": {},
   "outputs": [],
   "source": [
    "def pseudo_function(x, x_i, n_data):\n",
    "    n_wave = 5\n",
    "    exp_max = 1\n",
    "    exp_min = -1\n",
    "    bias = 0.5\n",
    "    a = 1.5\n",
    "    \n",
    "    radian_unit = (np.pi * n_wave) / n_data\n",
    "    exp_unit = (exp_max - exp_min) / n_data \n",
    "    \n",
    "    y = np.sin(x_i*radian_unit)* np.exp(exp_max-(exp_unit*x_i)) + bias + a*x\n",
    "    \n",
    "    return y"
   ]
  },
  {
   "cell_type": "code",
   "execution_count": 3,
   "metadata": {},
   "outputs": [
    {
     "data": {
      "text/plain": [
       "[<matplotlib.lines.Line2D at 0x113813b70>]"
      ]
     },
     "execution_count": 3,
     "metadata": {},
     "output_type": "execute_result"
    },
    {
     "data": {
      "image/png": "[encoded data removed]",
      "text/plain": [
       "<matplotlib.figure.Figure at 0x113813ba8>"
      ]
     },
     "metadata": {},
     "output_type": "display_data"
    }
   ],
   "source": [
    "n_data = 100\n",
    "x_range = (-1, 1)\n",
    "\n",
    "X_train = np.linspace(-1, 1, n_data,dtype=np.float32)\n",
    "Y_train = np.array([pseudo_function(x,x_i,n_data) for x_i, x in enumerate(list(X_train))], dtype=np.float32)\n",
    "plt.cla()\n",
    "plt.plot(X_train, Y_train, 'ro', alpha=0.4, color='black')"
   ]
  },
  {
   "cell_type": "code",
   "execution_count": 4,
   "metadata": {},
   "outputs": [
    {
     "name": "stdout",
     "output_type": "stream",
     "text": [
      "X_train shape : (100, 1)\n",
      "Y_train shape : (100, 1)\n"
     ]
    }
   ],
   "source": [
    "# reshape for model\n",
    "X_train = np.reshape(X_train, newshape=[-1,1])\n",
    "Y_train = np.reshape(Y_train, newshape=[-1,1])\n",
    "print(\"X_train shape : {}\\nY_train shape : {}\".format(np.shape(X_train), np.shape(X_train)))"
   ]
  },
  {
   "cell_type": "markdown",
   "metadata": {},
   "source": [
    "## 2. Make model & Design cost function & optimizer"
   ]
  },
  {
   "cell_type": "markdown",
   "metadata": {},
   "source": [
    "$${ u }_{ j }={ \\phi  }_{ relu }(\\sum _{ i=0 }^{ n }{ { w }_{ ij }{ x }_{ i } } )\\quad { y }_{ l }={ \\phi  }_{ relu }(\\sum _{ j=0 }^{ m }{ { w }_{ jl }{ u }_{ j } } ) $$"
   ]
  },
  {
   "cell_type": "markdown",
   "metadata": {},
   "source": [
    "$$ { x }_{ i }\\quad :\\quad i-th\\quad value\\quad of\\quad input\\quad x\\\\ { w }_{ ij }\\quad :\\quad weight\\quad between\\quad { x }_{ i }\\quad and\\quad { u }_{ j }\\\\ { u }_{ j }\\quad :\\quad activation\\quad of\\quad first\\quad layer\\\\ { w }_{ jl }\\quad :\\quad weight\\quad between\\quad { u }_{ i }\\quad and\\quad { y }_{ l }\\\\ { \\phi  }_{ relu }\\quad :\\quad relu\\quad activation\\quad function\\quad$$"
   ]
  },
  {
   "cell_type": "markdown",
   "metadata": {},
   "source": [
    "| notation | meaning   |\n",
    "|---------------------------------|------------------------------------|\n",
    "| $$ { x }_{ i } $$ | $$ i-th value of input x $$|\n",
    "| $$ { w }_{ ij } $$ | $$ weight\\quad between\\quad { x }_{ i }\\quad and\\quad { u }_{ j } $$"
   ]
  },
  {
   "cell_type": "code",
   "execution_count": 5,
   "metadata": {},
   "outputs": [],
   "source": [
    "with tf.variable_scope('variable'):\n",
    "    X = tf.placeholder(dtype=tf.float32, \n",
    "                       shape=[None,1],\n",
    "                       name=\"X\")\n",
    "    Y = tf.placeholder(dtype=tf.float32,\n",
    "                       shape=[None,1],\n",
    "                       name=\"Y\")\n",
    "    learning_rate = tf.placeholder(dtype=tf.float32, name='learning_rate')"
   ]
  },
  {
   "cell_type": "code",
   "execution_count": 6,
   "metadata": {},
   "outputs": [],
   "source": [
    "def flatten(x, name=None):\n",
    "    with tf.variable_scope('flatten'):\n",
    "        dims = x.get_shape().as_list()\n",
    "        if len(dims) == 4:\n",
    "            flattened = tf.reshape(\n",
    "                x,\n",
    "                shape=[-1, dims[1] * dims[2] * dims[3]])\n",
    "        elif len(dims) == 2 or len(dims) == 1:\n",
    "            flattened = x\n",
    "        else:\n",
    "            raise ValueError('Expected n dimensions of 1, 2 or 4.  Found:',\n",
    "                             len(dims))\n",
    "\n",
    "        return flattened\n",
    "\n",
    "def linear(x, n_output, name=None, activation=None):\n",
    "    if len(x.get_shape()) != 2:\n",
    "        x = flatten(x)\n",
    "\n",
    "    n_input = x.get_shape().as_list()[1]\n",
    "    with tf.variable_scope(name or \"fc\"):\n",
    "        W = tf.get_variable(\n",
    "            name='W',\n",
    "            shape=[n_input, n_output],\n",
    "            dtype=tf.float32,\n",
    "            initializer=tf.contrib.layers.xavier_initializer())\n",
    "\n",
    "        b = tf.get_variable(\n",
    "            name='b',\n",
    "            shape=[n_output],\n",
    "            dtype=tf.float32,\n",
    "            initializer=tf.constant_initializer(0.0))\n",
    "\n",
    "        h = tf.nn.bias_add(\n",
    "            name='h',\n",
    "            value=tf.matmul(x, W),\n",
    "            bias=b)\n",
    "\n",
    "        \n",
    "        batch_mean, batch_var = tf.nn.moments(h,[0])\n",
    "        batch_scale = tf.get_variable(\n",
    "                name='batch_normalization_scale',\n",
    "                shape=[n_output],\n",
    "                dtype=tf.float32,\n",
    "                initializer=tf.random_normal_initializer(mean=0.0, stddev=0.02))\n",
    "\n",
    "        batch_beta = tf.get_variable(\n",
    "                name='batch_normalization_beta',\n",
    "                shape=[n_output],\n",
    "                dtype=tf.float32,\n",
    "                initializer=tf.random_normal_initializer(mean=0.0, stddev=0.02))\n",
    "        \n",
    "        h = tf.nn.batch_normalization(h,\n",
    "                                      mean=batch_mean,\n",
    "                                      variance=batch_var,\n",
    "                                      offset=batch_beta,\n",
    "                                      scale=batch_scale,\n",
    "                                      variance_epsilon=1e-3)\n",
    "        \n",
    "        if activation:\n",
    "            h = activation(h)\n",
    "\n",
    "        return h, W"
   ]
  },
  {
   "cell_type": "code",
   "execution_count": 7,
   "metadata": {},
   "outputs": [],
   "source": [
    "with tf.variable_scope('mlp_model'):\n",
    "    # declaration of model\n",
    "    \n",
    "    h, _ = linear(X, 16, name=\"layer_1\", activation=tf.nn.relu)\n",
    "    h, _ = linear(h, 16, name=\"layer_2\", activation=tf.nn.relu)\n",
    "    Y_pred, _ = linear(h, 1, name=\"layer_3\")\n",
    "    \n",
    "    # optimization\n",
    "    cost = tf.reduce_mean(tf.squared_difference(Y_pred, Y))\n",
    "    optimizer = tf.train.AdamOptimizer(learning_rate).minimize(cost)\n",
    "    init = tf.global_variables_initializer()"
   ]
  },
  {
   "cell_type": "markdown",
   "metadata": {},
   "source": [
    "## 3. Train & Draw graph"
   ]
  },
  {
   "cell_type": "code",
   "execution_count": 8,
   "metadata": {},
   "outputs": [
    {
     "data": {
      "image/png": "[encoded data removed]",
      "text/plain": [
       "<matplotlib.figure.Figure at 0x117643320>"
      ]
     },
     "metadata": {},
     "output_type": "display_data"
    }
   ],
   "source": [
    "lr = 0.005\n",
    "n_epoch = 6000\n",
    "\n",
    "draw_interval = 300\n",
    "plt.cla()\n",
    "plt.plot(X_train, Y_train, 'ro', alpha=0.4, label=\"origin\", color=\"black\")\n",
    "\n",
    "cmap = plt.get_cmap('coolwarm')\n",
    "c_norm = colors.Normalize(vmin=0, vmax=n_epoch)\n",
    "scalar_map = cmx.ScalarMappable(norm=c_norm, cmap=cmap)\n",
    "\n",
    "sess = tf.Session() \n",
    "sess.run(init)\n",
    "for epoch_i in range(n_epoch):\n",
    "    _ = sess.run(optimizer, feed_dict={X:X_train, \n",
    "                                   Y:Y_train, \n",
    "                                   learning_rate:lr})\n",
    "    if epoch_i % draw_interval == 0 :\n",
    "        X_show = X_train.copy()\n",
    "        Y_show = sess.run(Y_pred, \n",
    "                          feed_dict={X:X_show})\n",
    "        \n",
    "        plt.plot(X_show, Y_show, alpha=epoch_i/n_epoch, color=scalar_map.to_rgba(epoch_i))"
   ]
  },
  {
   "cell_type": "code",
   "execution_count": null,
   "metadata": {},
   "outputs": [],
   "source": []
  }
 ],
 "metadata": {
  "kernelspec": {
   "display_name": "Python 3",
   "language": "python",
   "name": "python3"
  },
  "language_info": {
   "codemirror_mode": {
    "name": "ipython",
    "version": 3
   },
   "file_extension": ".py",
   "mimetype": "text/x-python",
   "name": "python",
   "nbconvert_exporter": "python",
   "pygments_lexer": "ipython3",
   "version": "3.6.2"
  }
 },
 "nbformat": 4,
 "nbformat_minor": 2
}
