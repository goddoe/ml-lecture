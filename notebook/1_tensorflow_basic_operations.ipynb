{
 "cells": [
  {
   "cell_type": "markdown",
   "metadata": {},
   "source": [
    "# Tensorflow Basic Operations \n",
    "### Sung-ju Kim\n",
    "\n",
    "notebook at github : https://github.com/goddoe/ml_lecture/blob/master/notebook/1_tensorflow_basic_operations.ipynb"
   ]
  },
  {
   "cell_type": "markdown",
   "metadata": {},
   "source": [
    "1. Constant variable declaration and basic calculation\n",
    "2. Advanced variable declaration\n",
    "3. Using placeholder"
   ]
  },
  {
   "cell_type": "code",
   "execution_count": 1,
   "metadata": {
    "collapsed": false
   },
   "outputs": [],
   "source": [
    "import tensorflow as tf"
   ]
  },
  {
   "cell_type": "markdown",
   "metadata": {},
   "source": [
    "## 1. Constant variable declaration and basic calculation"
   ]
  },
  {
   "cell_type": "code",
   "execution_count": 2,
   "metadata": {},
   "outputs": [],
   "source": [
    "a = tf.constant([2], dtype=tf.float32, shape=None, name='a')\n",
    "b = tf.constant([3], dtype=tf.float32, shape=None, name='b')\n",
    "y_add = a + b\n",
    "y_mul = a * b\n",
    "\n",
    "init = tf.global_variables_initializer()"
   ]
  },
  {
   "cell_type": "code",
   "execution_count": 3,
   "metadata": {},
   "outputs": [
    {
     "name": "stdout",
     "output_type": "stream",
     "text": [
      "[ 5.]\n",
      "[ 6.]\n"
     ]
    }
   ],
   "source": [
    "with tf.Session() as sess:\n",
    "    init = tf.global_variables_initializer()\n",
    "    sess.run(init)\n",
    "    \n",
    "    print(sess.run(y_add))\n",
    "    print(sess.run(y_mul))"
   ]
  },
  {
   "cell_type": "markdown",
   "metadata": {},
   "source": [
    "## 2. Advanced variable declaration"
   ]
  },
  {
   "cell_type": "code",
   "execution_count": 4,
   "metadata": {},
   "outputs": [],
   "source": [
    "with tf.device('/cpu:0'):\n",
    "    with tf.variable_scope('basic_operations'):\n",
    "        a = tf.get_variable(\n",
    "                        name='a',\n",
    "                        shape=[1],\n",
    "                        dtype=tf.float32,\n",
    "                        initializer=tf.constant_initializer(value=[2]))\n",
    "        b = tf.get_variable(\n",
    "                        name='b',\n",
    "                        shape=[1],\n",
    "                        dtype=tf.float32,\n",
    "                        initializer=tf.constant_initializer(value=[3]))\n",
    "        y_add = tf.add(a,b)\n",
    "        y_mul = tf.multiply(a,b)\n",
    "        \n",
    "        init = tf.global_variables_initializer()"
   ]
  },
  {
   "cell_type": "code",
   "execution_count": 5,
   "metadata": {
    "collapsed": true
   },
   "outputs": [
    {
     "name": "stdout",
     "output_type": "stream",
     "text": [
      "[ 5.]\n",
      "[ 6.]\n",
      "------------------------------\n",
      "[ 5.]\n",
      "[ 6.]\n"
     ]
    }
   ],
   "source": [
    "with tf.Session() as sess:\n",
    "    sess.run(init)\n",
    "                \n",
    "    print(y_add.eval(session=sess))\n",
    "    print(y_mul.eval(session=sess))\n",
    "    print('-'*30)\n",
    "    print(sess.run(y_add))\n",
    "    print(sess.run(y_mul))"
   ]
  },
  {
   "cell_type": "markdown",
   "metadata": {},
   "source": [
    "## 3. Using Placeholder"
   ]
  },
  {
   "cell_type": "code",
   "execution_count": 6,
   "metadata": {
    "collapsed": true
   },
   "outputs": [],
   "source": [
    "with tf.device('/cpu:0'):\n",
    "    with tf.variable_scope('basic_operations_with_placeholder'):\n",
    "        a = tf.placeholder(dtype=tf.float32, shape=None, name='a')\n",
    "        b = tf.placeholder(dtype=tf.float32, shape=None, name='b')\n",
    "        \n",
    "        add_a_b = tf.add(a,b)\n",
    "        mul_a_b = tf.multiply(a,b)\n",
    "        y_add = tf.add(a,b)\n",
    "        y_mul = tf.multiply(a,b)\n",
    "        \n",
    "        init = tf.global_variables_initializer()"
   ]
  },
  {
   "cell_type": "code",
   "execution_count": 7,
   "metadata": {
    "collapsed": false
   },
   "outputs": [
    {
     "name": "stdout",
     "output_type": "stream",
     "text": [
      "[ 5.]\n",
      "[ 6.]\n"
     ]
    }
   ],
   "source": [
    "with tf.Session() as sess:\n",
    "    print(sess.run(y_add, feed_dict={a:[2], b:[3]}))\n",
    "    print(sess.run(y_mul, feed_dict={a:[2], b:[3]}))"
   ]
  }
 ],
 "metadata": {
  "kernelspec": {
   "display_name": "Python 3",
   "language": "python",
   "name": "python3"
  },
  "language_info": {
   "codemirror_mode": {
    "name": "ipython",
    "version": 3
   },
   "file_extension": ".py",
   "mimetype": "text/x-python",
   "name": "python",
   "nbconvert_exporter": "python",
   "pygments_lexer": "ipython3",
   "version": "3.6.2"
  }
 },
 "nbformat": 4,
 "nbformat_minor": 2
}
